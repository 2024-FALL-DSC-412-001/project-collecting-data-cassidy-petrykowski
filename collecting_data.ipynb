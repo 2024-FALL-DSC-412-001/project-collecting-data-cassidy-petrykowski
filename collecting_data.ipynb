{
 "cells": [
  {
   "cell_type": "markdown",
   "metadata": {},
   "source": [
    "# Collecting Data\n",
    "\n",
    "The foundation of your project will be to collect appropriate data for the problem you are trying to solve. There is incredible versatility in how you can use an machine learning model. Some examples might be to predict the next social media trend, categorizing cancer cells, trying to better understand the relationship between temperature fluctuations and coffee bean growth rates, or creating a chat bot.\n",
    "\n",
    "Since we are very early in this course, and - most likely at this point - have not discussed many models, it may be difficult to know what you can do with a dataset, or what is in scope of this course. So by the nature of the course title \"Exploring Machine Learning\" we will take an explorative approach to your project. \n",
    "\n",
    "The goal of this part of the project is to explore what data sets you might be interested in, below will be questions to help guide you to selecting a category of data that you want to further explore."
   ]
  },
  {
   "cell_type": "markdown",
   "metadata": {},
   "source": [
    "## Identifying what data you want to explore\n",
    "\n",
    "Data is everywhere and there seems to be data on about anything. You might know exactly what you want to dive deeper into or you might have no idea. Either way I invite you answer the questions below.\n",
    "\n",
    "Below create a python dictionary with the key being a short summary of the topic of interest, while the value is an explanation of your interest - such as why you are interested in this topic, or why do you feel a strong passion to understand this topic. A topic of interest could be research you are conducting, a topic you are studying at your job, hobbies you have or topics surrounding your identities.\n",
    "\n",
    "List 5 topics, and for each topic put at least a 50 word description.\n",
    "\n",
    "For example I might put:\n",
    "\n",
    "```python\n",
    "interests = {\n",
    "    \"Cats\" : \"I have two cats at home, they are basically my children. I would generally like to learn more about cat behavior, health trends and pet owner behavior. It may be interesting to also see industry trends of cat owner, or how they compare to dog owners. Maybe later I want to start to write an app that recognizes cat breeds\",\n",
    "\n",
    "    \"Scuba\" : \"The study of scuba diving seems to be a 'soft' science, and there are general guidelines on when and how long you should do safety stops to avoid getting decompression sickness. Could there be links to human anatomy or behavior on how deep a person should go safely during a dive?\",\n",
    "}\n",
    "```"
   ]
  },
  {
   "cell_type": "code",
   "execution_count": 14,
   "metadata": {},
   "outputs": [
    {
     "name": "stdout",
     "output_type": "stream",
     "text": [
      "This is an       extended string \n"
     ]
    }
   ],
   "source": [
    "# Do not edit the name of this function, it will be used for grading\n",
    "def what_are_topics_you_are_interested_in():\n",
    "    interests = {\n",
    "            \"Knots\" : \"In her free time, my roommate makes intricate woven items out of a variety of knots. She typically weaves friendship bracelets, or keychains, but recently\\\n",
    "            she had begun making long lace-like headbands. Historically she found patterns online, but as what she is working on gets more detailed, she has begun making the patterns\\\n",
    "            herself. I think it would be interesting and/or speed up her process if I could compare resulting woven items to patterns and see if ML could draw a correlation between\\\n",
    "            the two and potentially generate patterns from pictures.\",\n",
    "            \"Poisonous Mushrooms\" : \"Mushrooms are one of those things that little kids want to pick up, but learn to just leave alone, because it is difficult to differentiate\\\n",
    "            poisonous from non poisonous mushrooms. Building a model to differentiate poisonous from non poisonous mushrooms would be interesting because to see if the model picks\\\n",
    "            up on similarities and differences beyond those apparent to the human eye like color or size.\",\n",
    "            \"Depression and environmental factors\" : \"Although not as relevent to me, multiple people close to me struggle with varying degrees of depression. Some varients, like seasonal\\\n",
    "            depression, can be aided by changes in environment, such as a heat lamp in the winter. I do not have much of a background in mental health issues, but I would be interested in\\\n",
    "            finding data on and comparing environmental factors that impact depression and seeing if a model could optimize varying combinations of those factors. This is also relatively\\\n",
    "            unique from some of my other interests in that it might involve non-image data.\",\n",
    "            \"Rowing\" : \"In the last year, I joined NCSU's rowing team and have subsequently become really engrossed with the sport. While there is a lot of sports analysis on more commonplace\\\n",
    "            sports like golf or tennis, rowing does not (to my knowledge) have the same level analysis applied to it. I think it would be really interesting to dissect videos of professional\\\n",
    "            and amateur rowers and see if certain elements of technique or timing can be identified.\",\n",
    "            \"Gemstones\" : \"Outside of rowing and work, I enjoy beading and metalsmithing. Metalsmithing also includes gemstone setting and beads often some in precious or\\\n",
    "            semi-precious gemstone varieties. However, sometimes it is difficult to discern the type of stone as many stones can look similar if their color, clarity or cut is the same. It would\\\n",
    "            be both pertinent and interesting to build a model that differentiates stones and sees more than humans can see beyond the sight-based or hardness-based tests. If gemstone identification\\\n",
    "            is too rudimentary or not engaging enough, upon closer inspection, I would also be interested in inspecting the gemstone mining locations or other qualities in an attempt to determine\\\n",
    "            how ethically sourced the gemstone was, which is a problem in the gemstone industry.\"\n",
    "        } # Fill out your interests\n",
    "    return interests\n",
    "# Note: you can use the \\ symbol to continue your string to the next line, this makes \n",
    "# things look a bit prettier\n",
    "# Example:\n",
    "print(\"This is an \\\n",
    "      extended string \")"
   ]
  },
  {
   "cell_type": "markdown",
   "metadata": {},
   "source": [
    "## Do datasets exist for my interests?\n",
    "\n",
    "There is lots of data out there but not for everything. Below are some websites where you can take a look at available datasets. Go ahead and search for datasets related to your topic. Are there many data sets surrounding your topic? Are there many different types of data like categorical, regression, images, etc? If there are limited data sets, do you feel comfortable with the challenge of creating your own data? (Note creating your own data set to supplement existing datasets will increase your score on this assignment)\n",
    "\n",
    "> You can find a link to databases on the course page!\n",
    "\n",
    "For 3 of your topics find 3 databases you might want to use for your project. Below create a dictionary with the keys being the topic values you listed above and the value a link of 3 data bases you would like to explore. If you would like to make your own data too make add a string \"Create my own data\" to the end of the list\n",
    "\n",
    "Note, if you have trouble finding datasets for your topic you can make your dataset more general, or try a different topic. For example for my \"Cats\" topic I could expand it to \"Pets\", \"Pet Toy Sales\" or \"Pet Health Benefits\"\n",
    "\n",
    "You can always change your topic and dataset later, so don't feel that these decisions are permanent.\n",
    "\n",
    "While searching did it generate any ideas on interests or data sets you would like to explore? - If so you can add or replace a topic to the dictionary above!\n",
    "\n",
    "\n",
    "Example\"\n",
    "\n",
    "```python\n",
    "datasets = {\n",
    "    \"Cats\" : [\"https://www.kaggle.com/datasets/ma7555/cat-breeds-dataset\", \"https://example.com\", \"https://example.com\", \"Create my own data\"],\n",
    "\n",
    "    \"Second Topic\": [\"https://example.com\", \"https://example.com\", \"https://example.com\"],\n",
    "    \n",
    "    \"Third Topic\" : [\"https://example.com\", \"https://example.com\", \"https://example.com\"]\n",
    "}\n",
    "```\n"
   ]
  },
  {
   "cell_type": "code",
   "execution_count": 15,
   "metadata": {},
   "outputs": [],
   "source": [
    "def find_some_datasets():\n",
    "    datasets = {\n",
    "        \"Knots\" : [\"https://friendship-bracelets.net/patterns\", \"https://www.braceletbook.com/\", \"Create my own data (from my roommate's recomendations)\"],\n",
    "        \"Rowing\" : [\"https://nbcolympics.com/videos/sport/rowing\", \"https://www.row2k.com/video/browse.cfm\", \"https://worldrowing.com/world-rowing-video/\"],\n",
    "        \"Gemstone Identification\" : [\"https://www.kaggle.com/datasets/lsind18/gemstones-images\", \"https://www.kaggle.com/datasets/fransell/gemstones-images-expanded\", \"https://www.prio.org/data/25\", ]\n",
    "    }\n",
    "    return datasets"
   ]
  },
  {
   "cell_type": "markdown",
   "metadata": {},
   "source": [
    "## Asking questions about your dataset\n",
    "\n",
    "Some questions you might want to ask for each dataset are:\n",
    "- Who created this dataset?\n",
    "- When was this dataset created?\n",
    "- Could there be any biases when creating this dataset?\n",
    "- How was this data collected?\n",
    "- Is this data representative of the problem I am trying to solve?\n"
   ]
  }
 ],
 "metadata": {
  "kernelspec": {
   "display_name": "Python 3",
   "language": "python",
   "name": "python3"
  },
  "language_info": {
   "codemirror_mode": {
    "name": "ipython",
    "version": 3
   },
   "file_extension": ".py",
   "mimetype": "text/x-python",
   "name": "python",
   "nbconvert_exporter": "python",
   "pygments_lexer": "ipython3",
   "version": "3.10.12"
  }
 },
 "nbformat": 4,
 "nbformat_minor": 2
}
